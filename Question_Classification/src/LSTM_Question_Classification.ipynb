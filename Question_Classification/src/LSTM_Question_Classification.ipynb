{
 "cells": [
  {
   "cell_type": "code",
   "execution_count": 4,
   "metadata": {
    "collapsed": true
   },
   "outputs": [],
   "source": [
    "import pickle\n",
    "import pandas as pd"
   ]
  },
  {
   "cell_type": "markdown",
   "metadata": {},
   "source": [
    "This code is to implement question classification. It is based on the paper by Li and Roth,\n",
    "https://pdfs.semanticscholar.org/f2b1/8264de28827a061fe9e22c437d1f616fdb4a.pdf\n",
    "\n",
    "There are 6 types of questions in the data set:Questions based on -  Person, Location, Organization, Date, Quantity, Duration.\n",
    "\n",
    "The model is an LSTM model with Fast Text embeddings of 300 dimensions - https://s3-us-west-1.amazonaws.com/fasttext-vectors/wiki-news-300d-1M.vec.zip\n"
   ]
  },
  {
   "cell_type": "code",
   "execution_count": 202,
   "metadata": {},
   "outputs": [],
   "source": [
    "import pandas as pd\n",
    "from keras.preprocessing.text import Tokenizer\n",
    "from keras.preprocessing.sequence import pad_sequences\n",
    "from keras.utils.np_utils import to_categorical\n",
    "\n",
    "from keras.layers import Embedding\n",
    "from keras.layers import Dense, Input, Flatten\n",
    "from keras.layers import Conv1D, MaxPooling1D, Embedding, Merge, Dropout, GlobalMaxPooling1D\n",
    "from keras.layers.recurrent import LSTM\n",
    "from keras.models import Model\n",
    "from keras import backend as K    \n",
    "K.set_image_dim_ordering('th')\n",
    "from keras.callbacks import EarlyStopping, ModelCheckpoint\n"
   ]
  },
  {
   "cell_type": "code",
   "execution_count": 231,
   "metadata": {},
   "outputs": [
    {
     "data": {
      "text/html": [
       "<div>\n",
       "<style>\n",
       "    .dataframe thead tr:only-child th {\n",
       "        text-align: right;\n",
       "    }\n",
       "\n",
       "    .dataframe thead th {\n",
       "        text-align: left;\n",
       "    }\n",
       "\n",
       "    .dataframe tbody tr th {\n",
       "        vertical-align: top;\n",
       "    }\n",
       "</style>\n",
       "<table border=\"1\" class=\"dataframe\">\n",
       "  <thead>\n",
       "    <tr style=\"text-align: right;\">\n",
       "      <th></th>\n",
       "      <th>label</th>\n",
       "      <th>sentence</th>\n",
       "      <th>split</th>\n",
       "    </tr>\n",
       "  </thead>\n",
       "  <tbody>\n",
       "    <tr>\n",
       "      <th>0</th>\n",
       "      <td>5</td>\n",
       "      <td>how far is it from denver to aspen ?</td>\n",
       "      <td>test</td>\n",
       "    </tr>\n",
       "    <tr>\n",
       "      <th>1</th>\n",
       "      <td>4</td>\n",
       "      <td>what county is modesto , california in ?</td>\n",
       "      <td>test</td>\n",
       "    </tr>\n",
       "    <tr>\n",
       "      <th>2</th>\n",
       "      <td>3</td>\n",
       "      <td>who was galileo ?</td>\n",
       "      <td>test</td>\n",
       "    </tr>\n",
       "    <tr>\n",
       "      <th>3</th>\n",
       "      <td>0</td>\n",
       "      <td>what is an atom ?</td>\n",
       "      <td>test</td>\n",
       "    </tr>\n",
       "    <tr>\n",
       "      <th>4</th>\n",
       "      <td>5</td>\n",
       "      <td>when did hawaii become a state ?</td>\n",
       "      <td>test</td>\n",
       "    </tr>\n",
       "  </tbody>\n",
       "</table>\n",
       "</div>"
      ],
      "text/plain": [
       "  label                                  sentence split\n",
       "0     5      how far is it from denver to aspen ?  test\n",
       "1     4  what county is modesto , california in ?  test\n",
       "2     3                         who was galileo ?  test\n",
       "3     0                         what is an atom ?  test\n",
       "4     5          when did hawaii become a state ?  test"
      ]
     },
     "execution_count": 231,
     "metadata": {},
     "output_type": "execute_result"
    }
   ],
   "source": [
    "corpus = pd.read_pickle('../data/TREC.pkl')\n",
    "#corpus= corpus.sample(frac=1)\n",
    "sentences, labels = list(corpus.sentence), list(corpus.label)\n",
    "corpus.head(5)"
   ]
  },
  {
   "cell_type": "code",
   "execution_count": 21,
   "metadata": {},
   "outputs": [
    {
     "data": {
      "text/plain": [
       "{'test', 'train'}"
      ]
     },
     "execution_count": 21,
     "metadata": {},
     "output_type": "execute_result"
    }
   ],
   "source": [
    "set(corpus.split)"
   ]
  },
  {
   "cell_type": "code",
   "execution_count": 24,
   "metadata": {
    "collapsed": true
   },
   "outputs": [],
   "source": [
    "train = corpus[corpus.split == \"train\"]\n",
    "test = corpus[corpus.split == \"test\"] "
   ]
  },
  {
   "cell_type": "code",
   "execution_count": 218,
   "metadata": {},
   "outputs": [
    {
     "name": "stdout",
     "output_type": "stream",
     "text": [
      "(5452,)\n",
      "(500,)\n"
     ]
    }
   ],
   "source": [
    "train_X, train_Y = train[\"sentence\"], train[\"label\"]\n",
    "test_X, test_Y = test[\"sentence\"], test[\"label\"]\n",
    "print train_X.shape\n",
    "print test_X.shape"
   ]
  },
  {
   "cell_type": "code",
   "execution_count": 43,
   "metadata": {},
   "outputs": [
    {
     "name": "stdout",
     "output_type": "stream",
     "text": [
      "{0: 1162, 1: 1250, 2: 86, 3: 1223, 4: 835, 5: 896}\n"
     ]
    }
   ],
   "source": [
    "classes = list(set(train_Y))\n",
    "class_count = {}\n",
    "for i in classes:\n",
    "    class_count[int(i)] = sum(train_Y==i)\n",
    "print class_count"
   ]
  },
  {
   "cell_type": "code",
   "execution_count": 44,
   "metadata": {
    "collapsed": true
   },
   "outputs": [],
   "source": [
    "import matplotlib.pyplot as plt\n",
    "%matplotlib inline"
   ]
  },
  {
   "cell_type": "code",
   "execution_count": 45,
   "metadata": {},
   "outputs": [
    {
     "data": {
      "text/plain": [
       "<matplotlib.text.Text at 0x7f6960771f10>"
      ]
     },
     "execution_count": 45,
     "metadata": {},
     "output_type": "execute_result"
    },
    {
     "data": {
      "image/png": "[encoded data removed]",
      "text/plain": [
       "<matplotlib.figure.Figure at 0x7f69619c8690>"
      ]
     },
     "metadata": {},
     "output_type": "display_data"
    }
   ],
   "source": [
    "plt.bar(class_count.keys(), class_count.values())\n",
    "plt.xlabel(\"Class Label\")\n",
    "plt.ylabel(\"Number of data points\")\n",
    "plt.title(\"Class distribution in Train\")"
   ]
  },
  {
   "cell_type": "code",
   "execution_count": 46,
   "metadata": {},
   "outputs": [
    {
     "name": "stdout",
     "output_type": "stream",
     "text": [
      "{0: 138, 1: 94, 2: 9, 3: 65, 4: 81, 5: 113}\n"
     ]
    }
   ],
   "source": [
    "classes = list(set(test_Y))\n",
    "class_count = {}\n",
    "for i in classes:\n",
    "    class_count[int(i)] = sum(test_Y==i)\n",
    "print class_count"
   ]
  },
  {
   "cell_type": "code",
   "execution_count": 47,
   "metadata": {},
   "outputs": [
    {
     "data": {
      "text/plain": [
       "<matplotlib.text.Text at 0x7f696064e650>"
      ]
     },
     "execution_count": 47,
     "metadata": {},
     "output_type": "execute_result"
    },
    {
     "data": {
      "image/png": "[encoded data removed]",
      "text/plain": [
       "<matplotlib.figure.Figure at 0x7f69606e8290>"
      ]
     },
     "metadata": {},
     "output_type": "display_data"
    }
   ],
   "source": [
    "plt.bar(class_count.keys(), class_count.values())\n",
    "plt.xlabel(\"Class Label\")\n",
    "plt.ylabel(\"Number of data points\")\n",
    "plt.title(\"Class distribution in Test\")"
   ]
  },
  {
   "cell_type": "code",
   "execution_count": 187,
   "metadata": {
    "collapsed": true
   },
   "outputs": [],
   "source": [
    "#Increasing the value will increase sequence length in many sentences. Captures more words\n",
    "TOP_N_WORDS = 6000\n",
    "#TOP_N_WORDS = 8459"
   ]
  },
  {
   "cell_type": "code",
   "execution_count": 188,
   "metadata": {},
   "outputs": [
    {
     "name": "stdout",
     "output_type": "stream",
     "text": [
      "Found 8459 unique tokens.\n"
     ]
    }
   ],
   "source": [
    "tokenizer = Tokenizer(nb_words=TOP_N_WORDS)\n",
    "tokenizer.fit_on_texts(train_X)\n",
    "sequences = tokenizer.texts_to_sequences(train_X)\n",
    "\n",
    "word_index = tokenizer.word_index\n",
    "print('Found %s unique tokens.' % len(word_index))"
   ]
  },
  {
   "cell_type": "code",
   "execution_count": 189,
   "metadata": {},
   "outputs": [],
   "source": [
    "for i in word_index:\n",
    "    if word_index[i] == 0:\n",
    "        print i"
   ]
  },
  {
   "cell_type": "code",
   "execution_count": 190,
   "metadata": {},
   "outputs": [
    {
     "name": "stdout",
     "output_type": "stream",
     "text": [
      "what films featured the character popeye doyle ?\n",
      "[2, 802, 603, 1, 126, 1252, 3505]\n"
     ]
    }
   ],
   "source": [
    "print train_X.iloc[1]\n",
    "print sequences[1]"
   ]
  },
  {
   "cell_type": "code",
   "execution_count": 191,
   "metadata": {},
   "outputs": [
    {
     "name": "stdout",
     "output_type": "stream",
     "text": [
      "2\n",
      "33\n"
     ]
    }
   ],
   "source": [
    "max_sequence_length = 0\n",
    "min_sequence_length = -1\n",
    "j = -1\n",
    "for i in sequences:\n",
    "    seq_len = len(i)\n",
    "    \n",
    "    if min_sequence_length == -1:\n",
    "        min_sequence_length = seq_len\n",
    "        \n",
    "    if seq_len > max_sequence_length:\n",
    "        max_sequence_length = seq_len\n",
    "    \n",
    "    if seq_len < min_sequence_length and min_sequence_length!=-1:\n",
    "        min_sequence_length = seq_len\n",
    "        j = i\n",
    "        \n",
    "print min_sequence_length\n",
    "print max_sequence_length"
   ]
  },
  {
   "cell_type": "code",
   "execution_count": 192,
   "metadata": {},
   "outputs": [
    {
     "name": "stdout",
     "output_type": "stream",
     "text": [
      "('Shape of data tensor:', (5452, 33))\n",
      "('Shape of label tensor:', (5452, 6))\n"
     ]
    }
   ],
   "source": [
    "data = pad_sequences(sequences, maxlen=max_sequence_length)\n",
    "import numpy as np\n",
    "data_labels = to_categorical(np.asarray(train_Y))\n",
    "print('Shape of data tensor:', data.shape)\n",
    "print('Shape of label tensor:', data_labels.shape)"
   ]
  },
  {
   "cell_type": "code",
   "execution_count": 193,
   "metadata": {},
   "outputs": [
    {
     "name": "stdout",
     "output_type": "stream",
     "text": [
      "Loaded 111050 word embeddings from Fast Text\n"
     ]
    }
   ],
   "source": [
    "import os\n",
    "FastText_DIR = \"/home/manoj/Dropbox/ML_in_CL/abhi/fastText/\"\n",
    "embeddings_index = {}\n",
    "f = open(os.path.join(FastText_DIR, 'wiki.simple.vec'))\n",
    "for line in f:\n",
    "    values = line.split()\n",
    "    word = values[0]\n",
    "    coefs = np.asarray(values[1:], dtype='float32')\n",
    "    embeddings_index[word] = coefs\n",
    "f.close()\n",
    "print \"Loaded \"+str(len(embeddings_index))+\" word embeddings from Fast Text\""
   ]
  },
  {
   "cell_type": "code",
   "execution_count": 194,
   "metadata": {},
   "outputs": [
    {
     "name": "stdout",
     "output_type": "stream",
     "text": [
      "300\n"
     ]
    }
   ],
   "source": [
    "EMBEDDING_DIM = len(embeddings_index[\"the\"])\n",
    "print EMBEDDING_DIM"
   ]
  },
  {
   "cell_type": "code",
   "execution_count": 195,
   "metadata": {},
   "outputs": [],
   "source": [
    "#+1 for bias.\n",
    "#len(word_index) because we have so many unique tokens after all the filtering.\n",
    "\n",
    "embedding_matrix = np.random.random((len(word_index) + 1, EMBEDDING_DIM))\n",
    "for word, i in word_index.items():\n",
    "    embedding_vector = embeddings_index.get(word)\n",
    "    if embedding_vector is not None:\n",
    "        # words not found in embedding index will be random numbers.\n",
    "        embedding_matrix[i] = embedding_vector"
   ]
  },
  {
   "cell_type": "code",
   "execution_count": 196,
   "metadata": {},
   "outputs": [
    {
     "data": {
      "text/plain": [
       "(8460, 300)"
      ]
     },
     "execution_count": 196,
     "metadata": {},
     "output_type": "execute_result"
    }
   ],
   "source": [
    "embedding_matrix.shape"
   ]
  },
  {
   "cell_type": "code",
   "execution_count": 197,
   "metadata": {
    "collapsed": true
   },
   "outputs": [],
   "source": [
    "embedding_layer = Embedding(len(word_index) + 1,\n",
    "                            EMBEDDING_DIM,\n",
    "                            weights=[embedding_matrix],\n",
    "                            input_length=max_sequence_length,\n",
    "                            trainable=True)"
   ]
  },
  {
   "cell_type": "code",
   "execution_count": 198,
   "metadata": {},
   "outputs": [],
   "source": [
    "sequence_input = Input(shape=(max_sequence_length,), dtype='int32')\n",
    "embedded_sequences = embedding_layer(sequence_input)\n",
    "\n",
    "x = (LSTM(300, return_sequences=True))(embedded_sequences)\n",
    "# x = Dropout(0.5)(x)\n",
    "# x = (LSTM(20, return_sequences=True))(x)\n",
    "# x = Dropout(0.5)(x)\n",
    "# x = (LSTM(10, return_sequences=True))(x)\n",
    "x = GlobalMaxPooling1D()(x)\n",
    "#x = Dropout(0.5)(x)\n",
    "x = Dense(6, activation=\"softmax\")(x)\n",
    "\n",
    "model = Model(sequence_input, x)\n",
    "\n",
    "model.compile(loss='categorical_crossentropy',\n",
    "              optimizer='adam',\n",
    "              metrics=['acc'])\n"
   ]
  },
  {
   "cell_type": "code",
   "execution_count": 199,
   "metadata": {},
   "outputs": [
    {
     "name": "stdout",
     "output_type": "stream",
     "text": [
      "_________________________________________________________________\n",
      "Layer (type)                 Output Shape              Param #   \n",
      "=================================================================\n",
      "input_16 (InputLayer)        (None, 33)                0         \n",
      "_________________________________________________________________\n",
      "embedding_8 (Embedding)      (None, 33, 300)           2538000   \n",
      "_________________________________________________________________\n",
      "lstm_22 (LSTM)               (None, 33, 300)           721200    \n",
      "_________________________________________________________________\n",
      "global_max_pooling1d_13 (Glo (None, 300)               0         \n",
      "_________________________________________________________________\n",
      "dense_14 (Dense)             (None, 6)                 1806      \n",
      "=================================================================\n",
      "Total params: 3,261,006\n",
      "Trainable params: 3,261,006\n",
      "Non-trainable params: 0\n",
      "_________________________________________________________________\n"
     ]
    }
   ],
   "source": [
    "model.summary()"
   ]
  },
  {
   "cell_type": "code",
   "execution_count": 204,
   "metadata": {},
   "outputs": [],
   "source": [
    "file_path=\"val_loss.best.hdf5\"\n",
    "checkpoint = ModelCheckpoint(file_path, monitor='val_loss', verbose=1, save_best_only=True, mode='min')\n",
    "\n",
    "early = EarlyStopping(monitor=\"val_loss\", mode=\"min\", patience=20)\n",
    "\n",
    "\n",
    "callbacks_list = [checkpoint, early] #early"
   ]
  },
  {
   "cell_type": "code",
   "execution_count": 205,
   "metadata": {},
   "outputs": [
    {
     "name": "stdout",
     "output_type": "stream",
     "text": [
      "Train on 4452 samples, validate on 1000 samples\n",
      "Epoch 1/10\n",
      "4452/4452 [==============================] - 19s 4ms/step - loss: 0.9477 - acc: 0.6635 - val_loss: 0.7014 - val_acc: 0.7560\n",
      "\n",
      "Epoch 00001: val_loss improved from inf to 0.70141, saving model to val_loss.best.hdf5\n",
      "Epoch 2/10\n",
      "4452/4452 [==============================] - 19s 4ms/step - loss: 0.5237 - acc: 0.8219 - val_loss: 0.5747 - val_acc: 0.7900\n",
      "\n",
      "Epoch 00002: val_loss improved from 0.70141 to 0.57465, saving model to val_loss.best.hdf5\n",
      "Epoch 3/10\n",
      "4452/4452 [==============================] - 19s 4ms/step - loss: 0.3129 - acc: 0.9003 - val_loss: 0.4963 - val_acc: 0.8200\n",
      "\n",
      "Epoch 00003: val_loss improved from 0.57465 to 0.49626, saving model to val_loss.best.hdf5\n",
      "Epoch 4/10\n",
      "4452/4452 [==============================] - 19s 4ms/step - loss: 0.2117 - acc: 0.9369 - val_loss: 0.4617 - val_acc: 0.8450\n",
      "\n",
      "Epoch 00004: val_loss improved from 0.49626 to 0.46168, saving model to val_loss.best.hdf5\n",
      "Epoch 5/10\n",
      "4452/4452 [==============================] - 20s 4ms/step - loss: 0.1328 - acc: 0.9645 - val_loss: 0.4389 - val_acc: 0.8560\n",
      "\n",
      "Epoch 00005: val_loss improved from 0.46168 to 0.43888, saving model to val_loss.best.hdf5\n",
      "Epoch 6/10\n",
      "4452/4452 [==============================] - 20s 4ms/step - loss: 0.0924 - acc: 0.9775 - val_loss: 0.4410 - val_acc: 0.8630\n",
      "\n",
      "Epoch 00006: val_loss did not improve\n",
      "Epoch 7/10\n",
      "4452/4452 [==============================] - 19s 4ms/step - loss: 0.0580 - acc: 0.9845 - val_loss: 0.4805 - val_acc: 0.8560\n",
      "\n",
      "Epoch 00007: val_loss did not improve\n",
      "Epoch 8/10\n",
      "4452/4452 [==============================] - 19s 4ms/step - loss: 0.0490 - acc: 0.9879 - val_loss: 0.4782 - val_acc: 0.8710\n",
      "\n",
      "Epoch 00008: val_loss did not improve\n",
      "Epoch 9/10\n",
      "4452/4452 [==============================] - 20s 4ms/step - loss: 0.0401 - acc: 0.9892 - val_loss: 0.5227 - val_acc: 0.8520\n",
      "\n",
      "Epoch 00009: val_loss did not improve\n",
      "Epoch 10/10\n",
      "4452/4452 [==============================] - 19s 4ms/step - loss: 0.0312 - acc: 0.9917 - val_loss: 0.5133 - val_acc: 0.8660\n",
      "\n",
      "Epoch 00010: val_loss did not improve\n"
     ]
    }
   ],
   "source": [
    "performance = model.fit(data[0:4452], data_labels[0:4452],epochs=10, batch_size=128, \n",
    "                       validation_data= (data[4452:],data_labels[4452:]), callbacks=callbacks_list)"
   ]
  },
  {
   "cell_type": "code",
   "execution_count": 206,
   "metadata": {},
   "outputs": [
    {
     "data": {
      "text/plain": [
       "{'0', '1', '2', '3', '4', '5'}"
      ]
     },
     "execution_count": 206,
     "metadata": {},
     "output_type": "execute_result"
    }
   ],
   "source": [
    "set(train_Y[4452:])"
   ]
  },
  {
   "cell_type": "code",
   "execution_count": 207,
   "metadata": {},
   "outputs": [
    {
     "data": {
      "text/plain": [
       "<matplotlib.text.Text at 0x7f68d45d4d10>"
      ]
     },
     "execution_count": 207,
     "metadata": {},
     "output_type": "execute_result"
    },
    {
     "data": {
      "image/png": "[encoded data removed]",
      "text/plain": [
       "<matplotlib.figure.Figure at 0x7f68d720f250>"
      ]
     },
     "metadata": {},
     "output_type": "display_data"
    }
   ],
   "source": [
    "plt.plot(performance.history['acc'])\n",
    "plt.plot(performance.history['val_acc'])\n",
    "plt.xlabel('epochs')\n",
    "plt.ylabel('loss')\n",
    "plt.legend(['train set', 'validation set'], loc='best')\n",
    "plt.title('Train vs Validation Accuracy')"
   ]
  },
  {
   "cell_type": "code",
   "execution_count": 219,
   "metadata": {},
   "outputs": [
    {
     "name": "stdout",
     "output_type": "stream",
     "text": [
      "500\n"
     ]
    }
   ],
   "source": [
    "#convert test data to sequences \n",
    "sequences = tokenizer.texts_to_sequences(test_X)\n",
    "print len(sequences)"
   ]
  },
  {
   "cell_type": "code",
   "execution_count": 220,
   "metadata": {},
   "outputs": [
    {
     "name": "stdout",
     "output_type": "stream",
     "text": [
      "500\n"
     ]
    }
   ],
   "source": [
    "test_Y = to_categorical(np.asarray(test_Y))\n",
    "print len(test_Y)"
   ]
  },
  {
   "cell_type": "code",
   "execution_count": 221,
   "metadata": {},
   "outputs": [
    {
     "name": "stdout",
     "output_type": "stream",
     "text": [
      "('Shape of data tensor:', (500, 33))\n",
      "('Shape of label tensor:', (500, 6))\n"
     ]
    }
   ],
   "source": [
    "data_test = pad_sequences(sequences, maxlen=max_sequence_length)\n",
    "data_test_labels = test_Y\n",
    "print('Shape of data tensor:', data_test.shape)\n",
    "print('Shape of label tensor:', data_test_labels.shape)"
   ]
  },
  {
   "cell_type": "code",
   "execution_count": 224,
   "metadata": {
    "collapsed": true
   },
   "outputs": [],
   "source": [
    "model.load_weights(file_path)"
   ]
  },
  {
   "cell_type": "code",
   "execution_count": 230,
   "metadata": {},
   "outputs": [
    {
     "name": "stdout",
     "output_type": "stream",
     "text": [
      "Test Accruracy:87.0\n",
      "Test Loss:0.3891631\n"
     ]
    }
   ],
   "source": [
    "print \"Test Accruracy:\"+str(round(model.test_on_batch(data_test, data_test_labels)[1]*100,2))\n",
    "print \"Test Loss:\"+str(model.test_on_batch(data_test, data_test_labels)[0])"
   ]
  },
  {
   "cell_type": "code",
   "execution_count": 223,
   "metadata": {},
   "outputs": [
    {
     "data": {
      "text/plain": [
       "['loss', 'acc']"
      ]
     },
     "execution_count": 223,
     "metadata": {},
     "output_type": "execute_result"
    }
   ],
   "source": [
    "model.metrics_names"
   ]
  },
  {
   "cell_type": "code",
   "execution_count": null,
   "metadata": {
    "collapsed": true
   },
   "outputs": [],
   "source": []
  }
 ],
 "metadata": {
  "kernelspec": {
   "display_name": "Python 2",
   "language": "python",
   "name": "python2"
  },
  "language_info": {
   "codemirror_mode": {
    "name": "ipython",
    "version": 2
   },
   "file_extension": ".py",
   "mimetype": "text/x-python",
   "name": "python",
   "nbconvert_exporter": "python",
   "pygments_lexer": "ipython2",
   "version": "2.7.13"
  }
 },
 "nbformat": 4,
 "nbformat_minor": 2
}
