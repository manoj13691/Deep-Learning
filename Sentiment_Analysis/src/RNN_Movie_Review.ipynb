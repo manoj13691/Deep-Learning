{
 "cells": [
  {
   "cell_type": "code",
   "execution_count": 1,
   "metadata": {},
   "outputs": [
    {
     "name": "stderr",
     "output_type": "stream",
     "text": [
      "/home/manoj/anaconda2/lib/python2.7/site-packages/h5py/__init__.py:34: FutureWarning: Conversion of the second argument of issubdtype from `float` to `np.floating` is deprecated. In future, it will be treated as `np.float64 == np.dtype(float).type`.\n",
      "  from ._conv import register_converters as _register_converters\n",
      "Using TensorFlow backend.\n"
     ]
    }
   ],
   "source": [
    "import pandas as pd\n",
    "from keras.preprocessing.text import Tokenizer\n",
    "from keras.preprocessing.sequence import pad_sequences\n",
    "from keras.utils.np_utils import to_categorical\n",
    "\n",
    "from keras.layers import Embedding\n",
    "from keras.layers.recurrent import LSTM\n",
    "from keras.layers import Dense, Input, Flatten\n",
    "from keras.callbacks import LambdaCallback\n",
    "from keras.layers import Conv1D, MaxPooling1D, Embedding, Merge, Dropout,GlobalMaxPooling1D\n",
    "from keras.models import Model\n",
    "from keras import backend as K    \n",
    "K.set_image_dim_ordering('th') "
   ]
  },
  {
   "cell_type": "code",
   "execution_count": 2,
   "metadata": {},
   "outputs": [
    {
     "name": "stdout",
     "output_type": "stream",
     "text": [
      "10662\n"
     ]
    }
   ],
   "source": [
    "corpus = pd.read_pickle('../data/MR.pkl')\n",
    "corpus= corpus.sample(frac=1)\n",
    "sentences, labels = list(corpus.sentence), list(corpus.label)\n",
    "print len(sentences)"
   ]
  },
  {
   "cell_type": "code",
   "execution_count": 3,
   "metadata": {},
   "outputs": [
    {
     "data": {
      "text/html": [
       "<div>\n",
       "<style>\n",
       "    .dataframe thead tr:only-child th {\n",
       "        text-align: right;\n",
       "    }\n",
       "\n",
       "    .dataframe thead th {\n",
       "        text-align: left;\n",
       "    }\n",
       "\n",
       "    .dataframe tbody tr th {\n",
       "        vertical-align: top;\n",
       "    }\n",
       "</style>\n",
       "<table border=\"1\" class=\"dataframe\">\n",
       "  <thead>\n",
       "    <tr style=\"text-align: right;\">\n",
       "      <th></th>\n",
       "      <th>label</th>\n",
       "      <th>sentence</th>\n",
       "      <th>split</th>\n",
       "    </tr>\n",
       "  </thead>\n",
       "  <tbody>\n",
       "    <tr>\n",
       "      <th>3349</th>\n",
       "      <td>0</td>\n",
       "      <td>would that greengrass had gone a tad less for ...</td>\n",
       "      <td>train</td>\n",
       "    </tr>\n",
       "    <tr>\n",
       "      <th>7469</th>\n",
       "      <td>1</td>\n",
       "      <td>you really have to salute writer director hane...</td>\n",
       "      <td>train</td>\n",
       "    </tr>\n",
       "    <tr>\n",
       "      <th>5345</th>\n",
       "      <td>1</td>\n",
       "      <td>ultimately , it ponders the reasons we need st...</td>\n",
       "      <td>train</td>\n",
       "    </tr>\n",
       "    <tr>\n",
       "      <th>6917</th>\n",
       "      <td>1</td>\n",
       "      <td>'no es la mejor cinta de la serie , ni la mejo...</td>\n",
       "      <td>train</td>\n",
       "    </tr>\n",
       "    <tr>\n",
       "      <th>4597</th>\n",
       "      <td>0</td>\n",
       "      <td>a movie to forget</td>\n",
       "      <td>train</td>\n",
       "    </tr>\n",
       "  </tbody>\n",
       "</table>\n",
       "</div>"
      ],
      "text/plain": [
       "     label                                           sentence  split\n",
       "3349     0  would that greengrass had gone a tad less for ...  train\n",
       "7469     1  you really have to salute writer director hane...  train\n",
       "5345     1  ultimately , it ponders the reasons we need st...  train\n",
       "6917     1  'no es la mejor cinta de la serie , ni la mejo...  train\n",
       "4597     0                                  a movie to forget  train"
      ]
     },
     "execution_count": 3,
     "metadata": {},
     "output_type": "execute_result"
    }
   ],
   "source": [
    "corpus.head(5)"
   ]
  },
  {
   "cell_type": "code",
   "execution_count": 4,
   "metadata": {
    "collapsed": true
   },
   "outputs": [],
   "source": [
    "#Increasing the value will increase sequence length in many sentences. Captures more words\n",
    "TOP_N_WORDS = 5000"
   ]
  },
  {
   "cell_type": "code",
   "execution_count": 5,
   "metadata": {},
   "outputs": [
    {
     "name": "stderr",
     "output_type": "stream",
     "text": [
      "/home/manoj/anaconda2/lib/python2.7/site-packages/keras/preprocessing/text.py:157: UserWarning: The `nb_words` argument in `Tokenizer` has been renamed `num_words`.\n",
      "  warnings.warn('The `nb_words` argument in `Tokenizer` '\n"
     ]
    },
    {
     "name": "stdout",
     "output_type": "stream",
     "text": [
      "Found 18758 unique tokens.\n"
     ]
    }
   ],
   "source": [
    "tokenizer = Tokenizer(nb_words=TOP_N_WORDS)\n",
    "tokenizer.fit_on_texts(sentences)\n",
    "sequences = tokenizer.texts_to_sequences(sentences)\n",
    "\n",
    "word_index = tokenizer.word_index\n",
    "print('Found %s unique tokens.' % len(word_index))"
   ]
  },
  {
   "cell_type": "code",
   "execution_count": 10,
   "metadata": {},
   "outputs": [
    {
     "name": "stdout",
     "output_type": "stream",
     "text": [
      "[('aided', 12231), ('meeropol', 13454), ('writings', 7443), ('ryoko', 16422), ('foul', 3184)]\n"
     ]
    }
   ],
   "source": [
    "#Tokenizer.word_index shows the word and its index in the dictionary\n",
    "#These indices are fed as a sequence\n",
    "print (tokenizer.word_index.items()[:5])"
   ]
  },
  {
   "cell_type": "code",
   "execution_count": 13,
   "metadata": {},
   "outputs": [
    {
     "name": "stdout",
     "output_type": "stream",
     "text": [
      "[83, 10, 208, 560, 2, 156, 15, 3, 2, 204, 31, 15]\n",
      "Sentence: would that greengrass had gone a tad less for grit and a lot more for intelligibility .\n",
      "Comment: Words not added from the first sentence along with their ID`s\n",
      "greengrass 5593\n",
      "tad 7192\n",
      "grit 7193\n",
      "intelligibility 10106\n"
     ]
    }
   ],
   "source": [
    "#This will show how the first sentence has been converted to numeric sequence\n",
    "print sequences[0]\n",
    "#This will show the first sentence itself\n",
    "print \"Sentence: \"+sentences[0]\n",
    "#This will loop through every word of the first sentence and see which word is not added in the sequence.\n",
    "print \"Comment: Words not added from the first sentence along with their ID`s\"\n",
    "words = sentences[0].split(\" \")\n",
    "for i in words:\n",
    "    if i in word_index:\n",
    "        if word_index[i] not in sequences[0]:\n",
    "            print i, word_index[i]"
   ]
  },
  {
   "cell_type": "code",
   "execution_count": 14,
   "metadata": {},
   "outputs": [
    {
     "name": "stdout",
     "output_type": "stream",
     "text": [
      "0\n",
      "51\n"
     ]
    }
   ],
   "source": [
    "max_sequence_length = 0\n",
    "min_sequence_length = -1\n",
    "j = -1\n",
    "for i in sequences:\n",
    "    seq_len = len(i)\n",
    "    \n",
    "    if min_sequence_length == -1:\n",
    "        min_sequence_length = seq_len\n",
    "        \n",
    "    if seq_len > max_sequence_length:\n",
    "        max_sequence_length = seq_len\n",
    "    \n",
    "    if seq_len < min_sequence_length and min_sequence_length!=-1:\n",
    "        min_sequence_length = seq_len\n",
    "        j = i\n",
    "        \n",
    "print min_sequence_length\n",
    "print max_sequence_length"
   ]
  },
  {
   "cell_type": "code",
   "execution_count": 15,
   "metadata": {},
   "outputs": [
    {
     "name": "stdout",
     "output_type": "stream",
     "text": [
      "('Shape of data tensor:', (10662, 51))\n",
      "('Shape of label tensor:', (10662, 2))\n"
     ]
    }
   ],
   "source": [
    "data = pad_sequences(sequences, maxlen=max_sequence_length)\n",
    "import numpy as np\n",
    "data_labels = to_categorical(np.asarray(labels))\n",
    "print('Shape of data tensor:', data.shape)\n",
    "print('Shape of label tensor:', data_labels.shape)"
   ]
  },
  {
   "cell_type": "code",
   "execution_count": 16,
   "metadata": {},
   "outputs": [
    {
     "data": {
      "text/plain": [
       "array([1., 0.])"
      ]
     },
     "execution_count": 16,
     "metadata": {},
     "output_type": "execute_result"
    }
   ],
   "source": [
    "data[0]\n",
    "data_labels[0]"
   ]
  },
  {
   "cell_type": "code",
   "execution_count": 17,
   "metadata": {},
   "outputs": [
    {
     "name": "stdout",
     "output_type": "stream",
     "text": [
      "Loaded 400000 word embeddings from GLOVE\n"
     ]
    }
   ],
   "source": [
    "import os\n",
    "GLOVE_DIR = \"/home/manoj/Downloads/glove.6B/\"\n",
    "embeddings_index = {}\n",
    "f = open(os.path.join(GLOVE_DIR, 'glove.6B.100d.txt'))\n",
    "for line in f:\n",
    "    values = line.split()\n",
    "    word = values[0]\n",
    "    coefs = np.asarray(values[1:], dtype='float32')\n",
    "    embeddings_index[word] = coefs\n",
    "f.close()\n",
    "print \"Loaded \"+str(len(embeddings_index))+\" word embeddings from GLOVE\""
   ]
  },
  {
   "cell_type": "code",
   "execution_count": 18,
   "metadata": {
    "collapsed": true
   },
   "outputs": [],
   "source": [
    "EMBEDDING_DIM = len(embeddings_index[\"the\"])"
   ]
  },
  {
   "cell_type": "code",
   "execution_count": 19,
   "metadata": {
    "collapsed": true
   },
   "outputs": [],
   "source": [
    "#+1 for bias.\n",
    "#len(word_index) because we have so many unique tokens after all the filtering.\n",
    "\n",
    "embedding_matrix = np.random.random((len(word_index) + 1, EMBEDDING_DIM))\n",
    "for word, i in word_index.items():\n",
    "    embedding_vector = embeddings_index.get(word)\n",
    "    if embedding_vector is not None:\n",
    "        # words not found in embedding index will be random numbers.\n",
    "        embedding_matrix[i] = embedding_vector"
   ]
  },
  {
   "cell_type": "code",
   "execution_count": 20,
   "metadata": {},
   "outputs": [
    {
     "data": {
      "text/plain": [
       "(18759, 100)"
      ]
     },
     "execution_count": 20,
     "metadata": {},
     "output_type": "execute_result"
    }
   ],
   "source": [
    "embedding_matrix.shape"
   ]
  },
  {
   "cell_type": "code",
   "execution_count": 21,
   "metadata": {
    "collapsed": true
   },
   "outputs": [],
   "source": [
    "embedding_layer = Embedding(len(word_index) + 1,\n",
    "                            EMBEDDING_DIM,\n",
    "                            weights=[embedding_matrix],\n",
    "                            input_length=max_sequence_length,\n",
    "                            trainable=True)"
   ]
  },
  {
   "cell_type": "code",
   "execution_count": 61,
   "metadata": {
    "collapsed": true
   },
   "outputs": [],
   "source": [
    "sequence_input = Input(shape=(max_sequence_length,), dtype='int32')\n",
    "embedded_sequences = embedding_layer(sequence_input)\n",
    "\n",
    "x = (LSTM(50, return_sequences=True))(embedded_sequences)\n",
    "x = (LSTM(40, return_sequences=True))(x)\n",
    "x = Dropout(0.5)(x)\n",
    "x = (LSTM(20, return_sequences=True))(x)\n",
    "x = Dropout(0.5)(x)\n",
    "x = (LSTM(10, return_sequences=True))(x)\n",
    "x = GlobalMaxPooling1D()(x)\n",
    "x = Dropout(0.5)(x)\n",
    "x = Dense(2, activation=\"softmax\")(x)\n",
    "\n",
    "model = Model(sequence_input, x)\n",
    "\n",
    "model.compile(loss='binary_crossentropy',\n",
    "              optimizer='adam',\n",
    "              metrics=['acc'])"
   ]
  },
  {
   "cell_type": "code",
   "execution_count": 62,
   "metadata": {},
   "outputs": [
    {
     "name": "stdout",
     "output_type": "stream",
     "text": [
      "_________________________________________________________________\n",
      "Layer (type)                 Output Shape              Param #   \n",
      "=================================================================\n",
      "input_12 (InputLayer)        (None, 51)                0         \n",
      "_________________________________________________________________\n",
      "embedding_1 (Embedding)      (None, 51, 100)           1875900   \n",
      "_________________________________________________________________\n",
      "lstm_26 (LSTM)               (None, 51, 50)            30200     \n",
      "_________________________________________________________________\n",
      "lstm_27 (LSTM)               (None, 51, 40)            14560     \n",
      "_________________________________________________________________\n",
      "dropout_16 (Dropout)         (None, 51, 40)            0         \n",
      "_________________________________________________________________\n",
      "lstm_28 (LSTM)               (None, 51, 20)            4880      \n",
      "_________________________________________________________________\n",
      "dropout_17 (Dropout)         (None, 51, 20)            0         \n",
      "_________________________________________________________________\n",
      "lstm_29 (LSTM)               (None, 51, 10)            1240      \n",
      "_________________________________________________________________\n",
      "global_max_pooling1d_12 (Glo (None, 10)                0         \n",
      "_________________________________________________________________\n",
      "dropout_18 (Dropout)         (None, 10)                0         \n",
      "_________________________________________________________________\n",
      "dense_12 (Dense)             (None, 2)                 22        \n",
      "=================================================================\n",
      "Total params: 1,926,802\n",
      "Trainable params: 1,926,802\n",
      "Non-trainable params: 0\n",
      "_________________________________________________________________\n"
     ]
    }
   ],
   "source": [
    "model.summary()"
   ]
  },
  {
   "cell_type": "code",
   "execution_count": 63,
   "metadata": {},
   "outputs": [
    {
     "name": "stdout",
     "output_type": "stream",
     "text": [
      "Train on 9595 samples, validate on 1067 samples\n",
      "Epoch 1/10\n",
      "9595/9595 [==============================] - 20s 2ms/step - loss: 0.5975 - acc: 0.6783 - val_loss: 0.6229 - val_acc: 0.6757\n",
      "Epoch 2/10\n",
      "9595/9595 [==============================] - 16s 2ms/step - loss: 0.3713 - acc: 0.8642 - val_loss: 0.6603 - val_acc: 0.6982\n",
      "Epoch 3/10\n",
      "9595/9595 [==============================] - 16s 2ms/step - loss: 0.2611 - acc: 0.9089 - val_loss: 0.7411 - val_acc: 0.7067\n",
      "Epoch 4/10\n",
      "9595/9595 [==============================] - 16s 2ms/step - loss: 0.2340 - acc: 0.9126 - val_loss: 0.8590 - val_acc: 0.7067\n",
      "Epoch 5/10\n",
      "9595/9595 [==============================] - 16s 2ms/step - loss: 0.1896 - acc: 0.9298 - val_loss: 0.8707 - val_acc: 0.7113\n",
      "Epoch 6/10\n",
      "9595/9595 [==============================] - 17s 2ms/step - loss: 0.1843 - acc: 0.9351 - val_loss: 0.9971 - val_acc: 0.6954\n",
      "Epoch 7/10\n",
      "9595/9595 [==============================] - 17s 2ms/step - loss: 0.1653 - acc: 0.9391 - val_loss: 1.0559 - val_acc: 0.7010\n",
      "Epoch 8/10\n",
      "9595/9595 [==============================] - 17s 2ms/step - loss: 0.1531 - acc: 0.9470 - val_loss: 1.0589 - val_acc: 0.7048\n",
      "Epoch 9/10\n",
      "9595/9595 [==============================] - 16s 2ms/step - loss: 0.1401 - acc: 0.9499 - val_loss: 1.1187 - val_acc: 0.6954\n",
      "Epoch 10/10\n",
      "9595/9595 [==============================] - 17s 2ms/step - loss: 0.1486 - acc: 0.9520 - val_loss: 1.2306 - val_acc: 0.6982\n"
     ]
    }
   ],
   "source": [
    "performance = model.fit(data, data_labels,epochs=10, batch_size=128, validation_split= 0.1)"
   ]
  },
  {
   "cell_type": "code",
   "execution_count": 64,
   "metadata": {
    "collapsed": true
   },
   "outputs": [],
   "source": [
    "import matplotlib.pyplot as plt\n",
    "%matplotlib inline"
   ]
  },
  {
   "cell_type": "code",
   "execution_count": 66,
   "metadata": {},
   "outputs": [
    {
     "data": {
      "text/plain": [
       "<matplotlib.text.Text at 0x7f13e813ba10>"
      ]
     },
     "execution_count": 66,
     "metadata": {},
     "output_type": "execute_result"
    },
    {
     "data": {
      "image/png": "[encoded data removed]",
      "text/plain": [
       "<matplotlib.figure.Figure at 0x7f13e81af450>"
      ]
     },
     "metadata": {},
     "output_type": "display_data"
    }
   ],
   "source": [
    "plt.plot(performance.history['acc'])\n",
    "plt.plot(performance.history['val_acc'])\n",
    "plt.xlabel('epochs')\n",
    "plt.ylabel('loss')\n",
    "plt.legend(['train set', 'validation set'], loc='best')\n",
    "plt.title('Train vs Validation Accuracy')"
   ]
  },
  {
   "cell_type": "code",
   "execution_count": null,
   "metadata": {
    "collapsed": true
   },
   "outputs": [],
   "source": []
  }
 ],
 "metadata": {
  "kernelspec": {
   "display_name": "Python 2",
   "language": "python",
   "name": "python2"
  },
  "language_info": {
   "codemirror_mode": {
    "name": "ipython",
    "version": 2
   },
   "file_extension": ".py",
   "mimetype": "text/x-python",
   "name": "python",
   "nbconvert_exporter": "python",
   "pygments_lexer": "ipython2",
   "version": "2.7.13"
  }
 },
 "nbformat": 4,
 "nbformat_minor": 2
}
