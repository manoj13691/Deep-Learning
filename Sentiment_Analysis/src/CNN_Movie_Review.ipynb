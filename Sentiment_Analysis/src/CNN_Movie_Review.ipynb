{
 "cells": [
  {
   "cell_type": "code",
   "execution_count": 2,
   "metadata": {},
   "outputs": [],
   "source": [
    "import pandas as pd\n",
    "from keras.preprocessing.text import Tokenizer\n",
    "from keras.preprocessing.sequence import pad_sequences\n",
    "from keras.utils.np_utils import to_categorical\n",
    "\n",
    "from keras.layers import Embedding\n",
    "from keras.layers import Dense, Input, Flatten\n",
    "from keras.layers import Conv1D, MaxPooling1D, Embedding, Merge, Dropout\n",
    "from keras.models import Model\n",
    "from keras import backend as K    \n",
    "K.set_image_dim_ordering('th') "
   ]
  },
  {
   "cell_type": "code",
   "execution_count": 3,
   "metadata": {},
   "outputs": [
    {
     "name": "stdout",
     "output_type": "stream",
     "text": [
      "10662\n"
     ]
    }
   ],
   "source": [
    "corpus = pd.read_pickle('../data/MR.pkl')\n",
    "corpus= corpus.sample(frac=1)\n",
    "sentences, labels = list(corpus.sentence), list(corpus.label)\n",
    "print len(sentences)"
   ]
  },
  {
   "cell_type": "code",
   "execution_count": 4,
   "metadata": {},
   "outputs": [
    {
     "data": {
      "text/html": [
       "<div>\n",
       "<style>\n",
       "    .dataframe thead tr:only-child th {\n",
       "        text-align: right;\n",
       "    }\n",
       "\n",
       "    .dataframe thead th {\n",
       "        text-align: left;\n",
       "    }\n",
       "\n",
       "    .dataframe tbody tr th {\n",
       "        vertical-align: top;\n",
       "    }\n",
       "</style>\n",
       "<table border=\"1\" class=\"dataframe\">\n",
       "  <thead>\n",
       "    <tr style=\"text-align: right;\">\n",
       "      <th></th>\n",
       "      <th>label</th>\n",
       "      <th>sentence</th>\n",
       "      <th>split</th>\n",
       "    </tr>\n",
       "  </thead>\n",
       "  <tbody>\n",
       "    <tr>\n",
       "      <th>62</th>\n",
       "      <td>0</td>\n",
       "      <td>the cumulative effect of watching this 65 minu...</td>\n",
       "      <td>train</td>\n",
       "    </tr>\n",
       "    <tr>\n",
       "      <th>10190</th>\n",
       "      <td>1</td>\n",
       "      <td>rarely has skin looked as beautiful , desirabl...</td>\n",
       "      <td>train</td>\n",
       "    </tr>\n",
       "    <tr>\n",
       "      <th>5385</th>\n",
       "      <td>1</td>\n",
       "      <td>behind the snow games and lovable siberian hus...</td>\n",
       "      <td>train</td>\n",
       "    </tr>\n",
       "    <tr>\n",
       "      <th>6632</th>\n",
       "      <td>1</td>\n",
       "      <td>the weight of the piece , the unerring profess...</td>\n",
       "      <td>train</td>\n",
       "    </tr>\n",
       "    <tr>\n",
       "      <th>6822</th>\n",
       "      <td>1</td>\n",
       "      <td>based on a devilishly witty script by heather ...</td>\n",
       "      <td>train</td>\n",
       "    </tr>\n",
       "  </tbody>\n",
       "</table>\n",
       "</div>"
      ],
      "text/plain": [
       "      label                                           sentence  split\n",
       "62        0  the cumulative effect of watching this 65 minu...  train\n",
       "10190     1  rarely has skin looked as beautiful , desirabl...  train\n",
       "5385      1  behind the snow games and lovable siberian hus...  train\n",
       "6632      1  the weight of the piece , the unerring profess...  train\n",
       "6822      1  based on a devilishly witty script by heather ...  train"
      ]
     },
     "execution_count": 4,
     "metadata": {},
     "output_type": "execute_result"
    }
   ],
   "source": [
    "corpus.head(5)"
   ]
  },
  {
   "cell_type": "code",
   "execution_count": 5,
   "metadata": {
    "collapsed": true
   },
   "outputs": [],
   "source": [
    "#Increasing the value will increase sequence length in many sentences. Captures more words\n",
    "TOP_N_WORDS = 5000"
   ]
  },
  {
   "cell_type": "code",
   "execution_count": 6,
   "metadata": {},
   "outputs": [
    {
     "name": "stderr",
     "output_type": "stream",
     "text": [
      "/home/manoj/anaconda2/lib/python2.7/site-packages/keras/preprocessing/text.py:157: UserWarning: The `nb_words` argument in `Tokenizer` has been renamed `num_words`.\n",
      "  warnings.warn('The `nb_words` argument in `Tokenizer` '\n"
     ]
    },
    {
     "name": "stdout",
     "output_type": "stream",
     "text": [
      "Found 18758 unique tokens.\n"
     ]
    }
   ],
   "source": [
    "tokenizer = Tokenizer(nb_words=TOP_N_WORDS)\n",
    "tokenizer.fit_on_texts(sentences)\n",
    "sequences = tokenizer.texts_to_sequences(sentences)\n",
    "\n",
    "word_index = tokenizer.word_index\n",
    "print('Found %s unique tokens.' % len(word_index))"
   ]
  },
  {
   "cell_type": "code",
   "execution_count": 8,
   "metadata": {},
   "outputs": [
    {
     "name": "stdout",
     "output_type": "stream",
     "text": [
      "[1, 4626, 968, 4, 197, 16, 362, 1387, 6, 190, 27, 132, 2000, 95, 61, 882, 4627, 46, 1, 270, 64, 1704, 4, 1, 193, 5, 211, 113, 20, 126, 1484, 15, 1, 3908, 5, 180]\n",
      "Sentence: the cumulative effect of watching this 65 minute trifle is rather like being trapped while some weird relative trots out the video he took of the family vacation to stonehenge . before long , you 're desperate for the evening to end .\n",
      "Comment: Words not added from the first sentence along with their ID`s\n",
      "65 5593\n",
      "trots 7192\n",
      "vacation 10106\n",
      "stonehenge 10107\n"
     ]
    }
   ],
   "source": [
    "#This will show how the first sentence has been converted to numeric sequence\n",
    "print sequences[0]\n",
    "#This will show the first sentence itself\n",
    "print \"Sentence: \"+sentences[0]\n",
    "#This will loop through every word of the first sentence and see which word is not added in the sequence.\n",
    "print \"Comment: Words not added from the first sentence along with their ID`s\"\n",
    "words = sentences[0].split(\" \")\n",
    "for i in words:\n",
    "    if i in word_index:\n",
    "        if word_index[i] not in sequences[0]:\n",
    "            print i, word_index[i]"
   ]
  },
  {
   "cell_type": "code",
   "execution_count": 9,
   "metadata": {},
   "outputs": [
    {
     "name": "stdout",
     "output_type": "stream",
     "text": [
      "0\n",
      "52\n"
     ]
    }
   ],
   "source": [
    "max_sequence_length = 0\n",
    "min_sequence_length = -1\n",
    "j = -1\n",
    "for i in sequences:\n",
    "    seq_len = len(i)\n",
    "    \n",
    "    if min_sequence_length == -1:\n",
    "        min_sequence_length = seq_len\n",
    "        \n",
    "    if seq_len > max_sequence_length:\n",
    "        max_sequence_length = seq_len\n",
    "    \n",
    "    if seq_len < min_sequence_length and min_sequence_length!=-1:\n",
    "        min_sequence_length = seq_len\n",
    "        j = i\n",
    "        \n",
    "print min_sequence_length\n",
    "print max_sequence_length"
   ]
  },
  {
   "cell_type": "code",
   "execution_count": 10,
   "metadata": {},
   "outputs": [
    {
     "name": "stdout",
     "output_type": "stream",
     "text": [
      "('Shape of data tensor:', (10662, 52))\n",
      "('Shape of label tensor:', (10662, 2))\n"
     ]
    }
   ],
   "source": [
    "data = pad_sequences(sequences, maxlen=max_sequence_length)\n",
    "import numpy as np\n",
    "data_labels = to_categorical(np.asarray(labels))\n",
    "print('Shape of data tensor:', data.shape)\n",
    "print('Shape of label tensor:', data_labels.shape)"
   ]
  },
  {
   "cell_type": "code",
   "execution_count": 11,
   "metadata": {},
   "outputs": [
    {
     "data": {
      "text/plain": [
       "array([1., 0.])"
      ]
     },
     "execution_count": 11,
     "metadata": {},
     "output_type": "execute_result"
    }
   ],
   "source": [
    "data[0]\n",
    "data_labels[0]"
   ]
  },
  {
   "cell_type": "code",
   "execution_count": 12,
   "metadata": {},
   "outputs": [
    {
     "name": "stdout",
     "output_type": "stream",
     "text": [
      "Loaded 400000 word embeddings from GLOVE\n"
     ]
    }
   ],
   "source": [
    "import os\n",
    "GLOVE_DIR = \"/home/manoj/Downloads/glove.6B/\"\n",
    "embeddings_index = {}\n",
    "f = open(os.path.join(GLOVE_DIR, 'glove.6B.100d.txt'))\n",
    "for line in f:\n",
    "    values = line.split()\n",
    "    word = values[0]\n",
    "    coefs = np.asarray(values[1:], dtype='float32')\n",
    "    embeddings_index[word] = coefs\n",
    "f.close()\n",
    "print \"Loaded \"+str(len(embeddings_index))+\" word embeddings from GLOVE\""
   ]
  },
  {
   "cell_type": "code",
   "execution_count": 13,
   "metadata": {
    "collapsed": true
   },
   "outputs": [],
   "source": [
    "EMBEDDING_DIM = len(embeddings_index[\"the\"])"
   ]
  },
  {
   "cell_type": "code",
   "execution_count": 14,
   "metadata": {
    "collapsed": true
   },
   "outputs": [],
   "source": [
    "#+1 for bias.\n",
    "#len(word_index) because we have so many unique tokens after all the filtering.\n",
    "\n",
    "embedding_matrix = np.random.random((len(word_index) + 1, EMBEDDING_DIM))\n",
    "for word, i in word_index.items():\n",
    "    embedding_vector = embeddings_index.get(word)\n",
    "    if embedding_vector is not None:\n",
    "        # words not found in embedding index will be random numbers.\n",
    "        embedding_matrix[i] = embedding_vector"
   ]
  },
  {
   "cell_type": "code",
   "execution_count": 15,
   "metadata": {},
   "outputs": [
    {
     "data": {
      "text/plain": [
       "(18759, 100)"
      ]
     },
     "execution_count": 15,
     "metadata": {},
     "output_type": "execute_result"
    }
   ],
   "source": [
    "embedding_matrix.shape"
   ]
  },
  {
   "cell_type": "code",
   "execution_count": 16,
   "metadata": {
    "collapsed": true
   },
   "outputs": [],
   "source": [
    "embedding_layer = Embedding(len(word_index) + 1,\n",
    "                            EMBEDDING_DIM,\n",
    "                            weights=[embedding_matrix],\n",
    "                            input_length=max_sequence_length,\n",
    "                            trainable=True)"
   ]
  },
  {
   "cell_type": "code",
   "execution_count": 43,
   "metadata": {},
   "outputs": [],
   "source": [
    "sequence_input = Input(shape=(max_sequence_length,), dtype='int32')\n",
    "embedded_sequences = embedding_layer(sequence_input)\n",
    "x = Conv1D(128, 5, activation='relu')(embedded_sequences)\n",
    "x = MaxPooling1D(5)(x)\n",
    "#x = Conv1D(128, 5, activation='relu')(x)\n",
    "#x = MaxPooling1D(5)(x)\n",
    "x = Flatten()(x)\n",
    "#x = Dense(128, activation='relu')(x)\n",
    "x = Dense(100, activation='relu')(x)\n",
    "preds = Dense(2, activation='softmax')(x)\n",
    "\n",
    "model = Model(sequence_input, preds)\n",
    "model.compile(loss='binary_crossentropy',\n",
    "              optimizer='adam',\n",
    "              metrics=['acc'])"
   ]
  },
  {
   "cell_type": "code",
   "execution_count": 44,
   "metadata": {},
   "outputs": [
    {
     "name": "stdout",
     "output_type": "stream",
     "text": [
      "_________________________________________________________________\n",
      "Layer (type)                 Output Shape              Param #   \n",
      "=================================================================\n",
      "input_6 (InputLayer)         (None, 52)                0         \n",
      "_________________________________________________________________\n",
      "embedding_1 (Embedding)      (None, 52, 100)           1875900   \n",
      "_________________________________________________________________\n",
      "conv1d_10 (Conv1D)           (None, 48, 128)           64128     \n",
      "_________________________________________________________________\n",
      "max_pooling1d_10 (MaxPooling (None, 9, 128)            0         \n",
      "_________________________________________________________________\n",
      "flatten_6 (Flatten)          (None, 1152)              0         \n",
      "_________________________________________________________________\n",
      "dense_11 (Dense)             (None, 100)               115300    \n",
      "_________________________________________________________________\n",
      "dense_12 (Dense)             (None, 2)                 202       \n",
      "=================================================================\n",
      "Total params: 2,055,530\n",
      "Trainable params: 2,055,530\n",
      "Non-trainable params: 0\n",
      "_________________________________________________________________\n"
     ]
    }
   ],
   "source": [
    "model.summary()"
   ]
  },
  {
   "cell_type": "code",
   "execution_count": 45,
   "metadata": {},
   "outputs": [
    {
     "name": "stdout",
     "output_type": "stream",
     "text": [
      "Train on 9595 samples, validate on 1067 samples\n",
      "Epoch 1/10\n",
      "9595/9595 [==============================] - 8s 803us/step - loss: 0.5429 - acc: 0.7265 - val_loss: 0.5700 - val_acc: 0.7545\n",
      "Epoch 2/10\n",
      "9595/9595 [==============================] - 7s 703us/step - loss: 0.2085 - acc: 0.9106 - val_loss: 0.7343 - val_acc: 0.7545\n",
      "Epoch 3/10\n",
      "9595/9595 [==============================] - 7s 708us/step - loss: 0.1238 - acc: 0.9495 - val_loss: 0.9023 - val_acc: 0.7488\n",
      "Epoch 4/10\n",
      "9595/9595 [==============================] - 7s 709us/step - loss: 0.0737 - acc: 0.9680 - val_loss: 1.1705 - val_acc: 0.7451\n",
      "Epoch 5/10\n",
      "9595/9595 [==============================] - 7s 713us/step - loss: 0.0519 - acc: 0.9769 - val_loss: 1.3083 - val_acc: 0.7366\n",
      "Epoch 6/10\n",
      "9595/9595 [==============================] - 7s 718us/step - loss: 0.0392 - acc: 0.9802 - val_loss: 1.4590 - val_acc: 0.7432\n",
      "Epoch 7/10\n",
      "9595/9595 [==============================] - 7s 722us/step - loss: 0.0334 - acc: 0.9825 - val_loss: 1.5603 - val_acc: 0.7516\n",
      "Epoch 8/10\n",
      "9595/9595 [==============================] - 7s 718us/step - loss: 0.0309 - acc: 0.9830 - val_loss: 1.6347 - val_acc: 0.7610\n",
      "Epoch 9/10\n",
      "9595/9595 [==============================] - 7s 719us/step - loss: 0.0287 - acc: 0.9838 - val_loss: 1.7228 - val_acc: 0.7554\n",
      "Epoch 10/10\n",
      "9595/9595 [==============================] - 7s 718us/step - loss: 0.0281 - acc: 0.9831 - val_loss: 1.7599 - val_acc: 0.7573\n"
     ]
    }
   ],
   "source": [
    "performance = model.fit(data, data_labels,epochs=10, batch_size=128, validation_split=0.1)"
   ]
  },
  {
   "cell_type": "code",
   "execution_count": 46,
   "metadata": {
    "collapsed": true
   },
   "outputs": [],
   "source": [
    "import matplotlib.pyplot as plt\n",
    "%matplotlib inline"
   ]
  },
  {
   "cell_type": "code",
   "execution_count": 47,
   "metadata": {},
   "outputs": [
    {
     "data": {
      "text/plain": [
       "<matplotlib.text.Text at 0x7f9404637810>"
      ]
     },
     "execution_count": 47,
     "metadata": {},
     "output_type": "execute_result"
    },
    {
     "data": {
      "image/png": "[encoded data removed]",
      "text/plain": [
       "<matplotlib.figure.Figure at 0x7f940467a510>"
      ]
     },
     "metadata": {},
     "output_type": "display_data"
    }
   ],
   "source": [
    "plt.plot(performance.history['acc'])\n",
    "plt.plot(performance.history['val_acc'])\n",
    "plt.xlabel('epochs')\n",
    "plt.ylabel('loss')\n",
    "plt.legend(['train set', 'validation set'], loc='best')\n",
    "plt.title('Train vs Validation Accuracy')"
   ]
  },
  {
   "cell_type": "code",
   "execution_count": null,
   "metadata": {
    "collapsed": true
   },
   "outputs": [],
   "source": []
  }
 ],
 "metadata": {
  "kernelspec": {
   "display_name": "Python 2",
   "language": "python",
   "name": "python2"
  },
  "language_info": {
   "codemirror_mode": {
    "name": "ipython",
    "version": 2
   },
   "file_extension": ".py",
   "mimetype": "text/x-python",
   "name": "python",
   "nbconvert_exporter": "python",
   "pygments_lexer": "ipython2",
   "version": "2.7.13"
  }
 },
 "nbformat": 4,
 "nbformat_minor": 2
}
