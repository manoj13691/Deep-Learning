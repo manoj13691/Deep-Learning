{
 "cells": [
  {
   "cell_type": "code",
   "execution_count": 1,
   "metadata": {},
   "outputs": [
    {
     "name": "stderr",
     "output_type": "stream",
     "text": [
      "/home/manoj/anaconda2/lib/python2.7/site-packages/h5py/__init__.py:34: FutureWarning: Conversion of the second argument of issubdtype from `float` to `np.floating` is deprecated. In future, it will be treated as `np.float64 == np.dtype(float).type`.\n",
      "  from ._conv import register_converters as _register_converters\n",
      "Using TensorFlow backend.\n"
     ]
    }
   ],
   "source": [
    "import pandas as pd\n",
    "from keras.preprocessing.text import Tokenizer\n",
    "from keras.preprocessing.sequence import pad_sequences\n",
    "from keras.utils.np_utils import to_categorical\n",
    "\n",
    "from keras.layers import Embedding\n",
    "from keras.layers import Dense, Input, Flatten\n",
    "from keras.layers import Conv1D, MaxPooling1D, Embedding, Merge, Dropout\n",
    "from keras.models import Model\n",
    "from keras import backend as K    \n",
    "K.set_image_dim_ordering('th') "
   ]
  },
  {
   "cell_type": "code",
   "execution_count": 2,
   "metadata": {},
   "outputs": [
    {
     "name": "stdout",
     "output_type": "stream",
     "text": [
      "10662\n"
     ]
    }
   ],
   "source": [
    "corpus = pd.read_pickle('../data/MR.pkl')\n",
    "corpus= corpus.sample(frac=1)\n",
    "sentences, labels = list(corpus.sentence), list(corpus.label)\n",
    "print len(sentences)"
   ]
  },
  {
   "cell_type": "code",
   "execution_count": 3,
   "metadata": {},
   "outputs": [
    {
     "data": {
      "text/html": [
       "<div>\n",
       "<style>\n",
       "    .dataframe thead tr:only-child th {\n",
       "        text-align: right;\n",
       "    }\n",
       "\n",
       "    .dataframe thead th {\n",
       "        text-align: left;\n",
       "    }\n",
       "\n",
       "    .dataframe tbody tr th {\n",
       "        vertical-align: top;\n",
       "    }\n",
       "</style>\n",
       "<table border=\"1\" class=\"dataframe\">\n",
       "  <thead>\n",
       "    <tr style=\"text-align: right;\">\n",
       "      <th></th>\n",
       "      <th>label</th>\n",
       "      <th>sentence</th>\n",
       "      <th>split</th>\n",
       "    </tr>\n",
       "  </thead>\n",
       "  <tbody>\n",
       "    <tr>\n",
       "      <th>7869</th>\n",
       "      <td>1</td>\n",
       "      <td>the stars may be college kids , but the subjec...</td>\n",
       "      <td>train</td>\n",
       "    </tr>\n",
       "    <tr>\n",
       "      <th>3919</th>\n",
       "      <td>0</td>\n",
       "      <td>. comes alive only when it switches gears to t...</td>\n",
       "      <td>train</td>\n",
       "    </tr>\n",
       "    <tr>\n",
       "      <th>8052</th>\n",
       "      <td>1</td>\n",
       "      <td>clever and unflinching in its comic barbs , sl...</td>\n",
       "      <td>train</td>\n",
       "    </tr>\n",
       "    <tr>\n",
       "      <th>6938</th>\n",
       "      <td>1</td>\n",
       "      <td>familiar but utterly delightful .</td>\n",
       "      <td>train</td>\n",
       "    </tr>\n",
       "    <tr>\n",
       "      <th>3467</th>\n",
       "      <td>0</td>\n",
       "      <td>kim ki deok seems to have in mind an ( emotion...</td>\n",
       "      <td>train</td>\n",
       "    </tr>\n",
       "  </tbody>\n",
       "</table>\n",
       "</div>"
      ],
      "text/plain": [
       "     label                                           sentence  split\n",
       "7869     1  the stars may be college kids , but the subjec...  train\n",
       "3919     0  . comes alive only when it switches gears to t...  train\n",
       "8052     1  clever and unflinching in its comic barbs , sl...  train\n",
       "6938     1                  familiar but utterly delightful .  train\n",
       "3467     0  kim ki deok seems to have in mind an ( emotion...  train"
      ]
     },
     "execution_count": 3,
     "metadata": {},
     "output_type": "execute_result"
    }
   ],
   "source": [
    "corpus.head(5)"
   ]
  },
  {
   "cell_type": "code",
   "execution_count": 4,
   "metadata": {
    "collapsed": true
   },
   "outputs": [],
   "source": [
    "#Increasing the value will increase sequence length in many sentences. Captures more words\n",
    "TOP_N_WORDS = 5000"
   ]
  },
  {
   "cell_type": "code",
   "execution_count": 5,
   "metadata": {},
   "outputs": [
    {
     "name": "stderr",
     "output_type": "stream",
     "text": [
      "/home/manoj/anaconda2/lib/python2.7/site-packages/keras/preprocessing/text.py:157: UserWarning: The `nb_words` argument in `Tokenizer` has been renamed `num_words`.\n",
      "  warnings.warn('The `nb_words` argument in `Tokenizer` '\n"
     ]
    },
    {
     "name": "stdout",
     "output_type": "stream",
     "text": [
      "Found 18758 unique tokens.\n"
     ]
    }
   ],
   "source": [
    "tokenizer = Tokenizer(nb_words=TOP_N_WORDS)\n",
    "tokenizer.fit_on_texts(sentences)\n",
    "sequences = tokenizer.texts_to_sequences(sentences)\n",
    "\n",
    "word_index = tokenizer.word_index\n",
    "print('Found %s unique tokens.' % len(word_index))"
   ]
  },
  {
   "cell_type": "code",
   "execution_count": 6,
   "metadata": {},
   "outputs": [
    {
     "name": "stdout",
     "output_type": "stream",
     "text": [
      "[1, 763, 85, 21, 792, 256, 12, 1, 264, 319, 6, 11, 1292, 11, 20, 60, 129, 1, 4, 1, 3908, 28, 25, 2, 882, 1387, 231, 475, 3, 2, 26, 764, 2943, 347, 51, 19, 4626, 4, 883]\n",
      "Sentence: the stars may be college kids , but the subject matter is as adult as you can get the temptations of the flesh are unleashed by a slightly crazed , overtly determined young woman and a one night swim turns into an ocean of trouble .\n",
      "Comment: Words not added from the first sentence along with their ID`s\n",
      "temptations 10106\n",
      "unleashed 10107\n",
      "crazed 7192\n",
      "overtly 5593\n"
     ]
    }
   ],
   "source": [
    "#This will show how the first sentence has been converted to numeric sequence\n",
    "print sequences[0]\n",
    "#This will show the first sentence itself\n",
    "print \"Sentence: \"+sentences[0]\n",
    "#This will loop through every word of the first sentence and see which word is not added in the sequence.\n",
    "print \"Comment: Words not added from the first sentence along with their ID`s\"\n",
    "words = sentences[0].split(\" \")\n",
    "for i in words:\n",
    "    if i in word_index:\n",
    "        if word_index[i] not in sequences[0]:\n",
    "            print i, word_index[i]"
   ]
  },
  {
   "cell_type": "code",
   "execution_count": 7,
   "metadata": {},
   "outputs": [
    {
     "name": "stdout",
     "output_type": "stream",
     "text": [
      "0\n",
      "51\n"
     ]
    }
   ],
   "source": [
    "max_sequence_length = 0\n",
    "min_sequence_length = -1\n",
    "j = -1\n",
    "for i in sequences:\n",
    "    seq_len = len(i)\n",
    "    \n",
    "    if min_sequence_length == -1:\n",
    "        min_sequence_length = seq_len\n",
    "        \n",
    "    if seq_len > max_sequence_length:\n",
    "        max_sequence_length = seq_len\n",
    "    \n",
    "    if seq_len < min_sequence_length and min_sequence_length!=-1:\n",
    "        min_sequence_length = seq_len\n",
    "        j = i\n",
    "        \n",
    "print min_sequence_length\n",
    "print max_sequence_length"
   ]
  },
  {
   "cell_type": "code",
   "execution_count": 8,
   "metadata": {},
   "outputs": [
    {
     "name": "stdout",
     "output_type": "stream",
     "text": [
      "('Shape of data tensor:', (10662, 51))\n",
      "('Shape of label tensor:', (10662, 2))\n"
     ]
    }
   ],
   "source": [
    "data = pad_sequences(sequences, maxlen=max_sequence_length)\n",
    "import numpy as np\n",
    "data_labels = to_categorical(np.asarray(labels))\n",
    "print('Shape of data tensor:', data.shape)\n",
    "print('Shape of label tensor:', data_labels.shape)"
   ]
  },
  {
   "cell_type": "code",
   "execution_count": 9,
   "metadata": {},
   "outputs": [
    {
     "data": {
      "text/plain": [
       "array([0., 1.])"
      ]
     },
     "execution_count": 9,
     "metadata": {},
     "output_type": "execute_result"
    }
   ],
   "source": [
    "data[0]\n",
    "data_labels[0]"
   ]
  },
  {
   "cell_type": "code",
   "execution_count": 10,
   "metadata": {},
   "outputs": [
    {
     "name": "stdout",
     "output_type": "stream",
     "text": [
      "Loaded 400000 word embeddings from GLOVE\n"
     ]
    }
   ],
   "source": [
    "import os\n",
    "GLOVE_DIR = \"/home/manoj/Downloads/glove.6B/\"\n",
    "embeddings_index = {}\n",
    "f = open(os.path.join(GLOVE_DIR, 'glove.6B.100d.txt'))\n",
    "for line in f:\n",
    "    values = line.split()\n",
    "    word = values[0]\n",
    "    coefs = np.asarray(values[1:], dtype='float32')\n",
    "    embeddings_index[word] = coefs\n",
    "f.close()\n",
    "print \"Loaded \"+str(len(embeddings_index))+\" word embeddings from GLOVE\""
   ]
  },
  {
   "cell_type": "code",
   "execution_count": 11,
   "metadata": {
    "collapsed": true
   },
   "outputs": [],
   "source": [
    "EMBEDDING_DIM = len(embeddings_index[\"the\"])"
   ]
  },
  {
   "cell_type": "code",
   "execution_count": 12,
   "metadata": {
    "collapsed": true
   },
   "outputs": [],
   "source": [
    "import pickle\n",
    "lexical_prob = pickle.load(open(\"../data/lexical_prob.pkl\",\"rb\"))"
   ]
  },
  {
   "cell_type": "code",
   "execution_count": 13,
   "metadata": {
    "collapsed": true
   },
   "outputs": [],
   "source": [
    "#+1 for bias.\n",
    "#len(word_index) because we have so many unique tokens after all the filtering.\n",
    "\n",
    "embedding_matrix = np.random.random((len(word_index)+ 1, len(lexical_prob[\"the\"]) ))\n",
    "for word, i in word_index.items():\n",
    "    embedding_vector = embeddings_index.get(word)\n",
    "    if embedding_vector is not None:\n",
    "        # words not found in embedding index will be random numbers.\n",
    "        embedding_matrix[i] = lexical_prob[word]\n",
    "    #embedding_matrix[i] = np.append(embedding_matrix[i], lexical_prob[word])"
   ]
  },
  {
   "cell_type": "code",
   "execution_count": 16,
   "metadata": {},
   "outputs": [
    {
     "data": {
      "text/plain": [
       "(18759, 45)"
      ]
     },
     "execution_count": 16,
     "metadata": {},
     "output_type": "execute_result"
    }
   ],
   "source": [
    "embedding_matrix.shape"
   ]
  },
  {
   "cell_type": "code",
   "execution_count": 17,
   "metadata": {
    "collapsed": true
   },
   "outputs": [],
   "source": [
    "embedding_layer = Embedding(len(word_index) + 1,\n",
    "                            len(lexical_prob[\"the\"]),\n",
    "                            weights=[embedding_matrix],\n",
    "                            input_length=max_sequence_length,\n",
    "                            trainable=True)"
   ]
  },
  {
   "cell_type": "code",
   "execution_count": 18,
   "metadata": {},
   "outputs": [
    {
     "name": "stdout",
     "output_type": "stream",
     "text": [
      "WARNING:tensorflow:From /home/manoj/anaconda2/lib/python2.7/site-packages/tensorflow/python/util/deprecation.py:497: calling conv1d (from tensorflow.python.ops.nn_ops) with data_format=NHWC is deprecated and will be removed in a future version.\n",
      "Instructions for updating:\n",
      "`NHWC` for data_format is deprecated, use `NWC` instead\n"
     ]
    }
   ],
   "source": [
    "sequence_input = Input(shape=(max_sequence_length,), dtype='int32')\n",
    "embedded_sequences = embedding_layer(sequence_input)\n",
    "x = Conv1D(128, 5, activation='relu')(embedded_sequences)\n",
    "x = MaxPooling1D(5)(x)\n",
    "#x = Conv1D(128, 5, activation='relu')(x)\n",
    "#x = MaxPooling1D(5)(x)\n",
    "x = Flatten()(x)\n",
    "#x = Dense(128, activation='relu')(x)\n",
    "x = Dense(100, activation='relu')(x)\n",
    "preds = Dense(2, activation='softmax')(x)\n",
    "\n",
    "model = Model(sequence_input, preds)\n",
    "model.compile(loss='binary_crossentropy',\n",
    "              optimizer='adam',\n",
    "              metrics=['acc'])"
   ]
  },
  {
   "cell_type": "code",
   "execution_count": 19,
   "metadata": {},
   "outputs": [
    {
     "name": "stdout",
     "output_type": "stream",
     "text": [
      "_________________________________________________________________\n",
      "Layer (type)                 Output Shape              Param #   \n",
      "=================================================================\n",
      "input_1 (InputLayer)         (None, 51)                0         \n",
      "_________________________________________________________________\n",
      "embedding_2 (Embedding)      (None, 51, 45)            844155    \n",
      "_________________________________________________________________\n",
      "conv1d_1 (Conv1D)            (None, 47, 128)           28928     \n",
      "_________________________________________________________________\n",
      "max_pooling1d_1 (MaxPooling1 (None, 9, 128)            0         \n",
      "_________________________________________________________________\n",
      "flatten_1 (Flatten)          (None, 1152)              0         \n",
      "_________________________________________________________________\n",
      "dense_1 (Dense)              (None, 100)               115300    \n",
      "_________________________________________________________________\n",
      "dense_2 (Dense)              (None, 2)                 202       \n",
      "=================================================================\n",
      "Total params: 988,585\n",
      "Trainable params: 988,585\n",
      "Non-trainable params: 0\n",
      "_________________________________________________________________\n"
     ]
    }
   ],
   "source": [
    "model.summary()"
   ]
  },
  {
   "cell_type": "code",
   "execution_count": 20,
   "metadata": {},
   "outputs": [
    {
     "name": "stdout",
     "output_type": "stream",
     "text": [
      "Train on 9595 samples, validate on 1067 samples\n",
      "Epoch 1/10\n",
      "9595/9595 [==============================] - 4s 409us/step - loss: 0.7005 - acc: 0.5108 - val_loss: 0.6886 - val_acc: 0.5539\n",
      "Epoch 2/10\n",
      "9595/9595 [==============================] - 4s 376us/step - loss: 0.6457 - acc: 0.6415 - val_loss: 0.5738 - val_acc: 0.7076\n",
      "Epoch 3/10\n",
      "9595/9595 [==============================] - 4s 376us/step - loss: 0.4446 - acc: 0.7900 - val_loss: 0.5181 - val_acc: 0.7516\n",
      "Epoch 4/10\n",
      "9595/9595 [==============================] - 4s 372us/step - loss: 0.3024 - acc: 0.8726 - val_loss: 0.5768 - val_acc: 0.7535\n",
      "Epoch 5/10\n",
      "9595/9595 [==============================] - 4s 381us/step - loss: 0.2163 - acc: 0.9154 - val_loss: 0.7093 - val_acc: 0.7273\n",
      "Epoch 6/10\n",
      "9595/9595 [==============================] - 4s 401us/step - loss: 0.1406 - acc: 0.9500 - val_loss: 0.8660 - val_acc: 0.7188\n",
      "Epoch 7/10\n",
      "9595/9595 [==============================] - 4s 430us/step - loss: 0.0877 - acc: 0.9693 - val_loss: 1.0246 - val_acc: 0.7198\n",
      "Epoch 8/10\n",
      "9595/9595 [==============================] - 4s 410us/step - loss: 0.0540 - acc: 0.9816 - val_loss: 1.2467 - val_acc: 0.7170\n",
      "Epoch 9/10\n",
      "9595/9595 [==============================] - 4s 419us/step - loss: 0.0383 - acc: 0.9837 - val_loss: 1.3772 - val_acc: 0.7160\n",
      "Epoch 10/10\n",
      "9595/9595 [==============================] - 4s 421us/step - loss: 0.0281 - acc: 0.9879 - val_loss: 1.5441 - val_acc: 0.7151\n"
     ]
    }
   ],
   "source": [
    "performance = model.fit(data, data_labels,epochs=10, batch_size=128, validation_split=0.1)"
   ]
  },
  {
   "cell_type": "code",
   "execution_count": 21,
   "metadata": {
    "collapsed": true
   },
   "outputs": [],
   "source": [
    "import matplotlib.pyplot as plt\n",
    "%matplotlib inline"
   ]
  },
  {
   "cell_type": "code",
   "execution_count": 22,
   "metadata": {},
   "outputs": [
    {
     "data": {
      "text/plain": [
       "<matplotlib.text.Text at 0x7f34707fe410>"
      ]
     },
     "execution_count": 22,
     "metadata": {},
     "output_type": "execute_result"
    },
    {
     "data": {
      "image/png": "[encoded data removed]",
      "text/plain": [
       "<matplotlib.figure.Figure at 0x7f3470835ad0>"
      ]
     },
     "metadata": {},
     "output_type": "display_data"
    }
   ],
   "source": [
    "plt.plot(performance.history['acc'])\n",
    "plt.plot(performance.history['val_acc'])\n",
    "plt.xlabel('epochs')\n",
    "plt.ylabel('loss')\n",
    "plt.legend(['train set', 'validation set'], loc='best')\n",
    "plt.title('Train vs Validation Accuracy')"
   ]
  },
  {
   "cell_type": "code",
   "execution_count": null,
   "metadata": {
    "collapsed": true
   },
   "outputs": [],
   "source": []
  }
 ],
 "metadata": {
  "kernelspec": {
   "display_name": "Python 2",
   "language": "python",
   "name": "python2"
  },
  "language_info": {
   "codemirror_mode": {
    "name": "ipython",
    "version": 2
   },
   "file_extension": ".py",
   "mimetype": "text/x-python",
   "name": "python",
   "nbconvert_exporter": "python",
   "pygments_lexer": "ipython2",
   "version": "2.7.13"
  }
 },
 "nbformat": 4,
 "nbformat_minor": 2
}
