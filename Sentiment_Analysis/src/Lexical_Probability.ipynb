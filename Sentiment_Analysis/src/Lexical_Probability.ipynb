{
 "cells": [
  {
   "cell_type": "code",
   "execution_count": 8,
   "metadata": {},
   "outputs": [],
   "source": [
    "import pandas as pd\n",
    "import nltk\n",
    "from nltk.data import load\n",
    "import numpy as np"
   ]
  },
  {
   "cell_type": "code",
   "execution_count": 48,
   "metadata": {},
   "outputs": [
    {
     "name": "stdout",
     "output_type": "stream",
     "text": [
      "10662\n"
     ]
    }
   ],
   "source": [
    "corpus = pd.read_pickle('../data/MR.pkl')\n",
    "corpus= corpus.sample(frac=1)\n",
    "sentences, labels = list(corpus.sentence), list(corpus.label)\n",
    "print(len(sentences))"
   ]
  },
  {
   "cell_type": "code",
   "execution_count": 61,
   "metadata": {},
   "outputs": [
    {
     "name": "stdout",
     "output_type": "stream",
     "text": [
      "45\n"
     ]
    }
   ],
   "source": [
    "unique_pos_tags = list(load('help/tagsets/upenn_tagset.pickle').keys())\n",
    "pos_tag_index ={item[1]:item[0] for item in enumerate(unique_pos_tags)}\n",
    "print(len(pos_tag_index))"
   ]
  },
  {
   "cell_type": "code",
   "execution_count": 70,
   "metadata": {},
   "outputs": [
    {
     "name": "stdout",
     "output_type": "stream",
     "text": [
      "1000 sentences done\n",
      "2000 sentences done\n",
      "3000 sentences done\n",
      "4000 sentences done\n",
      "5000 sentences done\n",
      "6000 sentences done\n",
      "7000 sentences done\n",
      "8000 sentences done\n",
      "9000 sentences done\n",
      "10000 sentences done\n"
     ]
    }
   ],
   "source": [
    "lexical_prob = {}\n",
    "count = 0\n",
    "for sentence in sentences:\n",
    "    sentence = sentence.split(\" \")\n",
    "    pos_tags = nltk.pos_tag(sentence)\n",
    "    for i in range(len(pos_tags)):\n",
    "        word = pos_tags[i][0]\n",
    "        if word not in lexical_prob:\n",
    "            lexical_prob[word] = np.zeros(len(pos_tag_index))\n",
    "            lexical_prob[word][pos_tag_index[pos_tags[i][1]]] =1\n",
    "        else:\n",
    "            lexical_prob[word][pos_tag_index[pos_tags[i][1]]]+=1\n",
    "    count +=1\n",
    "    if count%1000 == 0:\n",
    "        print(str(count)+\" sentences done\")"
   ]
  },
  {
   "cell_type": "code",
   "execution_count": 72,
   "metadata": {},
   "outputs": [],
   "source": [
    "for items in lexical_prob:\n",
    "    lexical_prob[items] = lexical_prob[items] / np.sum(lexical_prob[items])"
   ]
  },
  {
   "cell_type": "code",
   "execution_count": 73,
   "metadata": {},
   "outputs": [
    {
     "data": {
      "text/plain": [
       "array([0.        , 0.        , 0.        , 0.        , 0.        ,\n",
       "       0.        , 0.        , 0.        , 0.        , 0.        ,\n",
       "       0.        , 0.        , 0.        , 0.        , 0.        ,\n",
       "       0.85714286, 0.        , 0.        , 0.        , 0.        ,\n",
       "       0.        , 0.        , 0.        , 0.        , 0.        ,\n",
       "       0.14285714, 0.        , 0.        , 0.        , 0.        ,\n",
       "       0.        , 0.        , 0.        , 0.        , 0.        ,\n",
       "       0.        , 0.        , 0.        , 0.        , 0.        ,\n",
       "       0.        , 0.        , 0.        , 0.        , 0.        ])"
      ]
     },
     "execution_count": 73,
     "metadata": {},
     "output_type": "execute_result"
    }
   ],
   "source": [
    "lexical_prob[\"castro\"]"
   ]
  },
  {
   "cell_type": "code",
   "execution_count": 74,
   "metadata": {},
   "outputs": [
    {
     "data": {
      "text/plain": [
       "18766"
      ]
     },
     "execution_count": 74,
     "metadata": {},
     "output_type": "execute_result"
    }
   ],
   "source": [
    "len(lexical_prob)"
   ]
  },
  {
   "cell_type": "code",
   "execution_count": 75,
   "metadata": {
    "collapsed": true
   },
   "outputs": [],
   "source": [
    "import pickle\n",
    "pickle.dump(lexical_prob, open(\"lexical_prob.pkl\",\"wb\"))"
   ]
  },
  {
   "cell_type": "code",
   "execution_count": null,
   "metadata": {
    "collapsed": true
   },
   "outputs": [],
   "source": []
  }
 ],
 "metadata": {
  "kernelspec": {
   "display_name": "Python 2",
   "language": "python",
   "name": "python2"
  },
  "language_info": {
   "codemirror_mode": {
    "name": "ipython",
    "version": 2
   },
   "file_extension": ".py",
   "mimetype": "text/x-python",
   "name": "python",
   "nbconvert_exporter": "python",
   "pygments_lexer": "ipython2",
   "version": "2.7.13"
  }
 },
 "nbformat": 4,
 "nbformat_minor": 2
}
